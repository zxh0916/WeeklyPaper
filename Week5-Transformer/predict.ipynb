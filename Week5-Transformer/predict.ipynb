{
 "cells": [
  {
   "cell_type": "code",
   "execution_count": 2,
   "id": "d38dee1d-46ca-433e-9aad-a1b929b34567",
   "metadata": {},
   "outputs": [],
   "source": [
    "from module import Transformer\n",
    "import torch\n",
    "from utils import idx2sentense\n",
    "from train import predict\n",
    "from data import NMTDataset\n",
    "device = torch.device('cuda' if torch.cuda.is_available() else 'cpu')"
   ]
  },
  {
   "cell_type": "code",
   "execution_count": 3,
   "id": "07893183-ce77-43b6-acc9-a63e570ba86c",
   "metadata": {},
   "outputs": [],
   "source": [
    "net_zh2en = torch.load('Transformer_N=4_head=4_d=128_ffn=256_dropout=0.05_zh2en.pth').to(device)"
   ]
  },
  {
   "cell_type": "code",
   "execution_count": 4,
   "id": "24980d0b-8c64-43ab-be2d-5cdc59e9e273",
   "metadata": {},
   "outputs": [],
   "source": [
    "net_en2zh = torch.load('Transformer_N=4_head=4_d=128_ffn=256_dropout=0.05_en2zh.pth').to(device)"
   ]
  },
  {
   "cell_type": "code",
   "execution_count": 5,
   "id": "71e8a4a8-44f4-433f-95f5-54b8ef32018e",
   "metadata": {},
   "outputs": [],
   "source": [
    "dataset = NMTDataset(max_len_en=20, max_len_zh=20)\n",
    "vocab_en = dataset.vocab_en\n",
    "vocab_zh = dataset.vocab_zh"
   ]
  },
  {
   "cell_type": "code",
   "execution_count": 73,
   "id": "50dc87ff-c332-48b2-af2a-3c6a36426f39",
   "metadata": {},
   "outputs": [],
   "source": [
    "zh_sentenses = [\n",
    "    '你今天过得怎么样',\n",
    "    '晚饭去哪吃',\n",
    "    '今天会下雨吗',\n",
    "    '美帝国主义亡我之心不死',\n",
    "    '你准备好出门了吗',\n",
    "    '今天不上班',\n",
    "    '你在玩游戏吗',\n",
    "    '什么时候去吃晚饭',\n",
    "    '什么时候放假',\n",
    "    '我的鼠标呢',\n",
    "    '为什么你看起来这么没精神',\n",
    "    '你又在打游戏吗'\n",
    "]"
   ]
  },
  {
   "cell_type": "code",
   "execution_count": 74,
   "id": "25a99faa-e646-414e-8df7-ad7a2ab1cc7a",
   "metadata": {},
   "outputs": [
    {
     "data": {
      "text/plain": [
       "['how do you have to get today',\n",
       " \"where's the dinner going\",\n",
       " 'is it going to rain today',\n",
       " \"i don't think that god was dead\",\n",
       " 'are you ready to leave',\n",
       " 'there is not working today',\n",
       " 'do you play games in the game',\n",
       " 'when do you usually get off dinner',\n",
       " 'when did it take it',\n",
       " 'my ramble',\n",
       " \"why didn't you see the class\",\n",
       " 'do you play a game in the safe game']"
      ]
     },
     "execution_count": 74,
     "metadata": {},
     "output_type": "execute_result"
    }
   ],
   "source": [
    "predict(net=net_zh2en, src_sentense=zh_sentenses, src_vocab=vocab_zh, trg_vocab=vocab_en, num_steps=20, source='zh')"
   ]
  },
  {
   "cell_type": "code",
   "execution_count": 71,
   "id": "8d9ccadd-8386-475d-90e8-d93bccd843b6",
   "metadata": {},
   "outputs": [],
   "source": [
    "en_sentenses = [\n",
    "    'how do you do',\n",
    "    \"it's raining outside\", ###\n",
    "    \"let's go for dinner\", ###\n",
    "    \"what's your problem\",\n",
    "    'would you like to join us',\n",
    "    'she is my girlfriend',\n",
    "    \"i just can't understand you\",\n",
    "    'have you seen my car key',\n",
    "    \"i can't wait to see him\", ###\n",
    "    'have you ever been here before', ###\n",
    "    'he just left in ten minutes',\n",
    "    \"what's your plan\",\n",
    "    'i just lost my computer so i decide to buy a new one', ###\n",
    "    'look at the girl right there',\n",
    "    'how much is this apple', ###\n",
    "    'she was picked up by her father', ###\n",
    "    'would you like to go outside',\n",
    "    'this translation machine is broke', ###\n",
    "]"
   ]
  },
  {
   "cell_type": "code",
   "execution_count": 72,
   "id": "0d132f2e-d9c2-4e98-88d6-895bb29be713",
   "metadata": {},
   "outputs": [
    {
     "data": {
      "text/plain": [
       "['你怎么样',\n",
       " '雨下个外',\n",
       " '我们晚饭走进展吧',\n",
       " '你到底怎么回事啊',\n",
       " '你想跟我们一起来吗',\n",
       " '她是我的女朋友',\n",
       " '我真是不懂你',\n",
       " '你看到我的钥匙了吗',\n",
       " '我看不到他',\n",
       " '你之前已经来过这里了吗',\n",
       " '他刚离开了十分钟',\n",
       " '你的计划是什么',\n",
       " '我只是由了我的电脑中我的一个新家庭上的',\n",
       " '看那个女孩',\n",
       " '这个苹果多少',\n",
       " '她父亲捡起床为她造了',\n",
       " '你想去外面吗',\n",
       " '这个机器是出发机的结果']"
      ]
     },
     "execution_count": 72,
     "metadata": {},
     "output_type": "execute_result"
    }
   ],
   "source": [
    "predict(net=net_en2zh, src_sentense=en_sentenses, src_vocab=vocab_en, trg_vocab=vocab_zh, num_steps=100, source='en')"
   ]
  }
 ],
 "metadata": {
  "kernelspec": {
   "display_name": "Python 3 (ipykernel)",
   "language": "python",
   "name": "python3"
  },
  "language_info": {
   "codemirror_mode": {
    "name": "ipython",
    "version": 3
   },
   "file_extension": ".py",
   "mimetype": "text/x-python",
   "name": "python",
   "nbconvert_exporter": "python",
   "pygments_lexer": "ipython3",
   "version": "3.9.7"
  }
 },
 "nbformat": 4,
 "nbformat_minor": 5
}
