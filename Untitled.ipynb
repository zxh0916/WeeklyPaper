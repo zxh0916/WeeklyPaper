{
 "cells": [
  {
   "cell_type": "code",
   "execution_count": 1,
   "id": "3fa74586-ed2c-4705-a97e-ef4426c164ea",
   "metadata": {},
   "outputs": [],
   "source": [
    "from random import randint"
   ]
  },
  {
   "cell_type": "code",
   "execution_count": 2,
   "id": "4d46ecbe-e3ae-464a-9f22-c5158b655744",
   "metadata": {},
   "outputs": [],
   "source": [
    "runtime = 10000\n",
    "nmq = [randint(0, 2) for _ in range(3)]\n",
    "nmq_raw = nmq[:]"
   ]
  },
  {
   "cell_type": "code",
   "execution_count": 19,
   "id": "65c3ee72-0749-4320-9c89-cf497e525b44",
   "metadata": {
    "tags": []
   },
   "outputs": [
    {
     "name": "stdout",
     "output_type": "stream",
     "text": [
      "0.444235076\n",
      "0.4444444444444444\n"
     ]
    }
   ],
   "source": [
    "runtime = 100000\n",
    "nmq = [randint(0, 2) for _ in range(3)]\n",
    "nmq_raw = nmq[:]\n",
    "\n",
    "mequal0, ng0 = 0., 0.\n",
    "\n",
    "for i in range(runtime):\n",
    "    nmq = nmq_raw[:]\n",
    "    nmq[randint(0, 2)] -= 1\n",
    "    n, m, q = nmq\n",
    "    mequal0 += (1. if m == 0 else 0.)\n",
    "    ng0 += (1. if n > 0 else 0.)\n",
    "print(mequal0*ng0 / (runtime**2))\n",
    "n, m, q = nmq_raw\n",
    "print((1/9) * ((1. if n>1 else 0.) + 2*(1. if n>0 else 0.)) * ((1. if m==1 else 0.) + 2*(1. if m==0 else 0.)))"
   ]
  }
 ],
 "metadata": {
  "kernelspec": {
   "display_name": "base",
   "language": "python",
   "name": "python3"
  },
  "language_info": {
   "codemirror_mode": {
    "name": "ipython",
    "version": 3
   },
   "file_extension": ".py",
   "mimetype": "text/x-python",
   "name": "python",
   "nbconvert_exporter": "python",
   "pygments_lexer": "ipython3",
   "version": "3.9.7"
  }
 },
 "nbformat": 4,
 "nbformat_minor": 5
}
