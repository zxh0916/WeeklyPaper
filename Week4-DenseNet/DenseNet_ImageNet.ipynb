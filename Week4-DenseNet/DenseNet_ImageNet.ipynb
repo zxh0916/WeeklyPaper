{
 "cells": [
  {
   "cell_type": "code",
   "execution_count": 1,
   "id": "e1ea1961-7ba2-43fb-b064-31785c2d041e",
   "metadata": {},
   "outputs": [],
   "source": [
    "import torch\n",
    "import torch.nn as nn\n",
    "import torch.nn.functional as F\n",
    "from torch.utils import data\n",
    "import torchvision\n",
    "from torchvision import transforms\n",
    "from torch.utils.tensorboard import SummaryWriter\n",
    "import matplotlib.pyplot as plt\n",
    "%matplotlib inline\n",
    "from d2l import torch as d2l\n",
    "import random\n",
    "import time\n",
    "import pandas as pd\n",
    "from PIL import Image\n",
    "from modules import *\n",
    "device = torch.device('cuda') if torch.cuda.is_available() else torch.device('cpu')"
   ]
  },
  {
   "cell_type": "code",
   "execution_count": 2,
   "id": "cf347d99-57e5-432e-80c7-d8f5ee13700a",
   "metadata": {},
   "outputs": [
    {
     "name": "stdout",
     "output_type": "stream",
     "text": [
      "(10222, 2) (10357, 121)\n"
     ]
    }
   ],
   "source": [
    "path = '../data/dog-breed-identification/'\n",
    "train_csv = pd.read_csv(path + 'labels.csv')\n",
    "label_list = sorted(train_csv['breed'].unique().tolist())\n",
    "test_csv = pd.read_csv(path + 'sample_submission.csv')\n",
    "print(train_csv.shape, test_csv.shape)"
   ]
  },
  {
   "cell_type": "code",
   "execution_count": 3,
   "id": "74dfee5a-313d-4fdd-9d65-35a91246a423",
   "metadata": {},
   "outputs": [],
   "source": [
    "class TrainDataset(data.Dataset):\n",
    "    def __init__(self, dataset):\n",
    "        super().__init__()\n",
    "        self.dataset = dataset\n",
    "        \n",
    "        self.trans = transforms.Compose([transforms.RandomCrop(224),\n",
    "                                         transforms.RandomHorizontalFlip(p=0.5),\n",
    "                                         transforms.ColorJitter(brightness=0.2,\n",
    "                                                                contrast=0.2,\n",
    "                                                                saturation=0.2,\n",
    "                                                                hue=0.2),\n",
    "                                         transforms.ToTensor(),\n",
    "                                         transforms.Normalize(mean=[0.4736, 0.4504, 0.3909],\n",
    "                                                              std=[0.2655, 0.2607, 0.2650],\n",
    "                                                              inplace=True)])\n",
    "    \n",
    "    def __len__(self):\n",
    "        return len(self.dataset)\n",
    "    \n",
    "    def __getitem__(self, index):\n",
    "        image, label = self.dataset[index]\n",
    "        resize = transforms.Resize(random.randint(256, 480))\n",
    "        return self.trans(resize(image)), label"
   ]
  },
  {
   "cell_type": "code",
   "execution_count": 4,
   "id": "5c0e1f44-fbd6-4eb4-9d76-168f79857dcf",
   "metadata": {},
   "outputs": [],
   "source": [
    "class ValidDataset(data.Dataset):\n",
    "    def __init__(self, dataset):\n",
    "        super().__init__()\n",
    "        self.dataset = dataset\n",
    "        self.trans = transforms.Compose([transforms.Resize(256),\n",
    "                                         transforms.TenCrop(224),\n",
    "                                         transforms.Lambda(lambda crops: torch.stack([transforms.ToTensor()(crop) for crop in crops])),\n",
    "                                         transforms.Normalize(mean=[0.4736, 0.4504, 0.3909],\n",
    "                                                              std=[0.2655, 0.2607, 0.2650],\n",
    "                                                              inplace=True)])\n",
    "        \n",
    "    def __len__(self):\n",
    "        return len(self.dataset)\n",
    "    \n",
    "    def __getitem__(self, index):\n",
    "        image, label = self.dataset[index]\n",
    "        return self.trans(image), label"
   ]
  },
  {
   "cell_type": "code",
   "execution_count": 5,
   "id": "9a4ff324-6016-4112-b49c-f0851f023e74",
   "metadata": {},
   "outputs": [],
   "source": [
    "class TrainValidDataset(data.Dataset):\n",
    "    def __init__(self):\n",
    "        super().__init__()\n",
    "                \n",
    "    def __len__(self):\n",
    "        return train_csv.shape[0]\n",
    "    \n",
    "    def __getitem__(self, index):\n",
    "        image = Image.open(path + 'train/' + train_csv['id'][index] + '.jpg')\n",
    "        label = label_list.index(train_csv['breed'][index])\n",
    "        return image, label"
   ]
  },
  {
   "cell_type": "code",
   "execution_count": 6,
   "id": "2428ef33-1164-4b7a-88ab-6f4fd22174fa",
   "metadata": {},
   "outputs": [],
   "source": [
    "train_dataset, valid_dataset = data.random_split(TrainValidDataset(),\n",
    "                                                 [9200, 10222-9200])\n",
    "train_dataset, valid_dataset = TrainDataset(train_dataset), ValidDataset(valid_dataset)"
   ]
  },
  {
   "cell_type": "code",
   "execution_count": 7,
   "id": "6d3a4ef8-e665-4ae1-8b5d-3b48ec7a98cb",
   "metadata": {},
   "outputs": [],
   "source": [
    "class TestDataset(data.Dataset):\n",
    "    def __init__(self, size, horizontal_flip):\n",
    "        super().__init__()\n",
    "        self.trans = [transforms.Resize(size),\n",
    "                      transforms.ToTensor(),\n",
    "                      transforms.Normalize(mean=[0.4736, 0.4504, 0.3909],\n",
    "                                           std=[0.2655, 0.2607, 0.2650],\n",
    "                                           inplace=True)]\n",
    "        if horizontal_flip:\n",
    "            self.trans.insert(0, transforms.RandomHorizontalFlip(p=1))\n",
    "        self.trans = transforms.Compose(self.trans)\n",
    "    def __len__(self):\n",
    "        return test_csv.shape[0]\n",
    "    \n",
    "    def __getitem__(self, index):\n",
    "        image = Image.open(path + 'test/' + test_csv['id'][index] + '.jpg')\n",
    "        return self.trans(image)"
   ]
  },
  {
   "cell_type": "code",
   "execution_count": 8,
   "id": "6c6cede5-80b4-4926-9a9b-75d6496ad8f1",
   "metadata": {},
   "outputs": [],
   "source": [
    "class SubmissionGenerater:\n",
    "    def __init__(self, batch_size):\n",
    "        self.sizes = [224, 256, 384, 480, 640]\n",
    "        self.datasets = []\n",
    "        for size in self.sizes:\n",
    "            self.datasets += [TestDataset(size, False), TestDataset(size, True)]\n",
    "        # 每个数据集创建一个dataloader\n",
    "        self.dataloaders = [data.DataLoader(dataset,\n",
    "                                            batch_size=batch_size,\n",
    "                                            shuffle=False,\n",
    "                                            num_workers=0) for dataset in self.datasets]\n",
    "    def generate(self, net):\n",
    "        net.eval()\n",
    "        outputs = {}\n",
    "        with torch.no_grad():\n",
    "            # 对每个dataloader都过一遍\n",
    "            for i, dataloader in enumerate(self.dataloaders):\n",
    "                print(f'{i+1:2d} dataset inferencing')\n",
    "                for i, input, in enumerate(dataloader):\n",
    "                    input = input.to(device)\n",
    "                    output = net(input)\n",
    "                    # 把网络的输出存储起来\n",
    "                    try:\n",
    "                        outputs[i] += F.softmax(output, dim=1)\n",
    "                    except KeyError:\n",
    "                        outputs[i] = F.softmax(output, dim=1)\n",
    "        output_tensor = torch.concat([outputs[i] for i in range(len(outputs))], dim=0)\n",
    "        print(output_tensor.shape)\n",
    "        \n",
    "        rows = []\n",
    "        column = ['id'] + label_list\n",
    "        for i in range(output_tensor.shape[0]):\n",
    "            row = [test_csv['id'][i]] + list(output_tensor[i].cpu().numpy())\n",
    "            rows.append(pd.Series(row, index=column))\n",
    "        submission = pd.DataFrame(rows)\n",
    "        \n",
    "        return submission, output_tensor"
   ]
  },
  {
   "cell_type": "code",
   "execution_count": 9,
   "id": "e6cc17a6-9629-41a1-afe9-35ab503c64d1",
   "metadata": {},
   "outputs": [
    {
     "data": {
      "text/plain": [
       "<All keys matched successfully>"
      ]
     },
     "execution_count": 9,
     "metadata": {},
     "output_type": "execute_result"
    }
   ],
   "source": [
    "net = DenseNet_ImageNet(k=24,\n",
    "                        theta=0.5,\n",
    "                        block=Bottleneck,\n",
    "                        archi='169',\n",
    "                        num_classes=120,\n",
    "                        batch_norm=True,\n",
    "                        dropout=0.1).to(device)\n",
    "net.load_state_dict(torch.load(f'DenseNet_ImageNet_archi={net.archi}_k={net.k}_theta={net.theta}_dropout={net.dropout}.pth'))"
   ]
  },
  {
   "cell_type": "code",
   "execution_count": 10,
   "id": "9d726f17-bf08-4882-85b9-c120fe6880fe",
   "metadata": {},
   "outputs": [
    {
     "name": "stdout",
     "output_type": "stream",
     "text": [
      " 1 dataset inferencing\n",
      " 2 dataset inferencing\n",
      " 3 dataset inferencing\n",
      " 4 dataset inferencing\n",
      " 5 dataset inferencing\n",
      " 6 dataset inferencing\n",
      " 7 dataset inferencing\n",
      " 8 dataset inferencing\n",
      " 9 dataset inferencing\n",
      "10 dataset inferencing\n",
      "torch.Size([10357, 120])\n"
     ]
    }
   ],
   "source": [
    "generater = SubmissionGenerater(batch_size=1)\n",
    "submission, output_tensor = generater.generate(net)"
   ]
  },
  {
   "cell_type": "code",
   "execution_count": 11,
   "id": "d98a603e-dbd7-4eed-999d-9df970786437",
   "metadata": {},
   "outputs": [],
   "source": [
    "submission.to_csv(f'submission_archi={net.archi}_k={net.k}_theta={net.theta}_dropout={net.dropout}.csv', index=False)"
   ]
  }
 ],
 "metadata": {
  "kernelspec": {
   "display_name": "Python 3 (ipykernel)",
   "language": "python",
   "name": "python3"
  },
  "language_info": {
   "codemirror_mode": {
    "name": "ipython",
    "version": 3
   },
   "file_extension": ".py",
   "mimetype": "text/x-python",
   "name": "python",
   "nbconvert_exporter": "python",
   "pygments_lexer": "ipython3",
   "version": "3.9.7"
  }
 },
 "nbformat": 4,
 "nbformat_minor": 5
}
